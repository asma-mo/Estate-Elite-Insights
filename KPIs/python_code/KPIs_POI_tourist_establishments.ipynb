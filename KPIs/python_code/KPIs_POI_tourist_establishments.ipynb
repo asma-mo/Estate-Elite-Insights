{
  "nbformat": 4,
  "nbformat_minor": 0,
  "metadata": {
    "colab": {
      "provenance": [],
      "authorship_tag": "ABX9TyO7kEaeIaW1FB+skbh7xish",
      "include_colab_link": true
    },
    "kernelspec": {
      "name": "python3",
      "display_name": "Python 3"
    },
    "language_info": {
      "name": "python"
    }
  },
  "cells": [
    {
      "cell_type": "markdown",
      "metadata": {
        "id": "view-in-github",
        "colab_type": "text"
      },
      "source": [
        "<a href=\"https://colab.research.google.com/github/asma-mo/Estate-Elite-Insights/blob/rahaf_branch/KPIs/python_code/KPIs_POI_tourist_establishments.ipynb\" target=\"_parent\"><img src=\"https://colab.research.google.com/assets/colab-badge.svg\" alt=\"Open In Colab\"/></a>"
      ]
    },
    {
      "cell_type": "code",
      "source": [
        "import pandas as pd\n",
        "df=pd.read_csv(\"/content/POI_tourist_establishments.csv\")"
      ],
      "metadata": {
        "id": "gv_Jm2lz33RH"
      },
      "execution_count": 4,
      "outputs": []
    },
    {
      "cell_type": "code",
      "source": [
        "# Perform group by and count\n",
        "grouped_data = df.groupby('municipality_code').size().reset_index(name='poi_count')\n",
        "\n",
        "# Sort the result in ascending order based on poi_count\n",
        "sorted_data = grouped_data.sort_values('poi_count', ascending=True)\n",
        "\n",
        "# Print the sorted result\n",
        "print(sorted_data)"
      ],
      "metadata": {
        "colab": {
          "base_uri": "https://localhost:8080/"
        },
        "id": "u5BmfBWmEFq0",
        "outputId": "0e9b8805-eb89-47c0-9a38-638c7b2fed25"
      },
      "execution_count": 5,
      "outputs": [
        {
          "output_type": "stream",
          "name": "stdout",
          "text": [
            "     municipality_code  poi_count\n",
            "4413             43047          1\n",
            "5103             50551          1\n",
            "5100             50539          1\n",
            "5094             50493          1\n",
            "5092             50484          1\n",
            "...                ...        ...\n",
            "1241             13055        115\n",
            "6874             69123        129\n",
            "6412             65286        156\n",
            "485              06088        158\n",
            "7435             75056       1340\n",
            "\n",
            "[8828 rows x 2 columns]\n"
          ]
        }
      ]
    },
    {
      "cell_type": "code",
      "source": [
        "df.to_csv(\"KPIs_POI_tourist_establishments\", index=False)"
      ],
      "metadata": {
        "id": "PijbH-CzEj8o"
      },
      "execution_count": 7,
      "outputs": []
    }
  ]
}